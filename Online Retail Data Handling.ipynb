{
 "cells": [
  {
   "metadata": {},
   "cell_type": "markdown",
   "source": [
    "# Understanding the problem and the scope of its usage--\n",
    "## 🔍 Understanding the Problem\n",
    "### CLV (Customer Lifetime Value) prediction aims to estimate:\n",
    "- 💡 How much profit a business can expect from a customer during their relationship.\n",
    "- This is a supervised learning regression problem when done properly — because we're trying to predict a continuous value (the monetary worth of a customer).\n",
    "\n",
    "### ✅ What We Should Have for Supervised CLV:\n",
    "- We need to label the data with a target variable, which is:\n",
    "- CLV = Total future revenue from a customer\n",
    "- Since the dataset only includes past transactions, we can't directly observe “future revenue.”\n",
    "- But we can simulate it by splitting your dataset into two time periods:\n",
    "\n",
    "### 👉 Step-by-step Realignment:\n",
    "> Preprocess the dataset:\n",
    "\n",
    "> Clean nulls (remove rows without CustomerID)\n",
    "\n",
    "> Parse InvoiceDate to datetime\n",
    "\n",
    "> Create TotalPrice = Quantity × UnitPrice\n",
    "\n",
    "> Split into calibration vs holdout period:\n",
    "\n",
    "> Calibration: Use for feature creation (e.g., frequency, recency, avg order value)\n",
    "\n",
    "> Holdout: Use to calculate the actual CLV (label) from future orders\n",
    "\n",
    "> Create features from calibration period:\n",
    "- Recency: Days since last purchase\n",
    "- Frequency: Number of purchases\n",
    "- Monetary: Avg or total spend\n",
    "\n",
    "> Create target CLV from holdout period:\n",
    "- Group by CustomerID and sum TotalPrice → this is the actual future value of the customer\n",
    "- Train a regression model (e.g., XGBoost, RandomForest, Linear Regression)\n",
    "- Input: Features from calibration\n",
    "- Output: Target CLV from holdout\n",
    "\n"
   ],
   "id": "6ec40d33ca4ab300"
  },
  {
   "metadata": {},
   "cell_type": "markdown",
   "source": [
    "# Supervised vs Unsupervised Learning\n",
    "## 🧠 1. What is Supervised Learning?\n",
    "- Supervised learning is used when your data has labels — meaning for every input, you already know what the correct output is.\n",
    "- In our case, if we had customer behavior data (like frequency of purchase, total spend, etc.) AND also knew their actual future CLV (like how much they'll spend in the next 6 months), then we could use supervised learning.\n",
    "- You would train a model to learn from the input features and map them to the correct output.\n",
    "## For example:\n",
    "> \"If the customer did this much activity in the past, their future value is likely ₹10,000.\"\n",
    "### In supervised learning:\n",
    "- You split the data into train and test sets.\n",
    "- You use metrics like accuracy, RMSE, or R² score to evaluate the model.\n",
    "- You need to have real values to compare the prediction with.\n",
    "- This approach is great when you're doing prediction, and you have real future outcomes to learn from.\n",
    "\n",
    "## 🤖 2. What is Unsupervised Learning?\n",
    "- Unsupervised learning is used when you don’t have labels — just raw input data.\n",
    "- Not teaching the model to predict anything directly. Instead, its like asking it to find patterns, clusters, or structures in the data by itself.\n",
    "\n",
    "## For a  CLV project including it:\n",
    "- We don’t have the actual future spending of customers.\n",
    "- So we use what we do have: how recently, how frequently, and how much they spent in the past.\n",
    "\n",
    "## Using RFM (Recency, Frequency, Monetary) scores, we try to understand:\n",
    "- “Which customers are loyal?”\n",
    "- “Who are likely to churn?”\n",
    "- “Who are the high-value customers?”\n",
    "\n",
    "## This is not about prediction, but about understanding and grouping.\n",
    "- segmenting customers into groups like:\n",
    "\n",
    " >Champions\n",
    "\n",
    " >At Risk\n",
    "\n",
    " >Lost\n",
    "\n",
    " >Loyal\n",
    "\n",
    "#### Here, no train-test split is needed, because there's no output to test against.\n",
    "\n"
   ],
   "id": "828184cf440b7934"
  },
  {
   "cell_type": "code",
   "id": "initial_id",
   "metadata": {
    "collapsed": true,
    "ExecuteTime": {
     "end_time": "2025-07-23T07:50:56.389566Z",
     "start_time": "2025-07-23T07:50:56.386493Z"
    }
   },
   "source": [
    "import numpy as np\n",
    "import pandas as pd\n",
    "import matplotlib.pyplot as plt\n",
    "import seaborn as sns\n"
   ],
   "outputs": [],
   "execution_count": 226
  },
  {
   "metadata": {
    "ExecuteTime": {
     "end_time": "2025-07-23T07:50:56.944572Z",
     "start_time": "2025-07-23T07:50:56.437412Z"
    }
   },
   "cell_type": "code",
   "source": "data= pd.read_csv(\"/home/big_fat_penguin/PycharmProjects/projects/Customer lifetime value prediction/model/Online Retail.csv\")\n",
   "id": "17dc4aa480b34bef",
   "outputs": [],
   "execution_count": 227
  },
  {
   "metadata": {
    "ExecuteTime": {
     "end_time": "2025-07-23T07:50:57.035949Z",
     "start_time": "2025-07-23T07:50:57.002236Z"
    }
   },
   "cell_type": "code",
   "source": "data",
   "id": "743d9c4a5b9a4fb6",
   "outputs": [
    {
     "data": {
      "text/plain": [
       "       InvoiceNo StockCode                          Description  Quantity  \\\n",
       "0         536365    85123A   WHITE HANGING HEART T-LIGHT HOLDER         6   \n",
       "1         536365     71053                  WHITE METAL LANTERN         6   \n",
       "2         536365    84406B       CREAM CUPID HEARTS COAT HANGER         8   \n",
       "3         536365    84029G  KNITTED UNION FLAG HOT WATER BOTTLE         6   \n",
       "4         536365    84029E       RED WOOLLY HOTTIE WHITE HEART.         6   \n",
       "...          ...       ...                                  ...       ...   \n",
       "541904    581587     22613          PACK OF 20 SPACEBOY NAPKINS        12   \n",
       "541905    581587     22899         CHILDREN'S APRON DOLLY GIRL          6   \n",
       "541906    581587     23254        CHILDRENS CUTLERY DOLLY GIRL          4   \n",
       "541907    581587     23255      CHILDRENS CUTLERY CIRCUS PARADE         4   \n",
       "541908    581587     22138        BAKING SET 9 PIECE RETROSPOT          3   \n",
       "\n",
       "            InvoiceDate  UnitPrice  CustomerID         Country  \n",
       "0        12/1/2010 8:26       2.55     17850.0  United Kingdom  \n",
       "1        12/1/2010 8:26       3.39     17850.0  United Kingdom  \n",
       "2        12/1/2010 8:26       2.75     17850.0  United Kingdom  \n",
       "3        12/1/2010 8:26       3.39     17850.0  United Kingdom  \n",
       "4        12/1/2010 8:26       3.39     17850.0  United Kingdom  \n",
       "...                 ...        ...         ...             ...  \n",
       "541904  12/9/2011 12:50       0.85     12680.0          France  \n",
       "541905  12/9/2011 12:50       2.10     12680.0          France  \n",
       "541906  12/9/2011 12:50       4.15     12680.0          France  \n",
       "541907  12/9/2011 12:50       4.15     12680.0          France  \n",
       "541908  12/9/2011 12:50       4.95     12680.0          France  \n",
       "\n",
       "[541909 rows x 8 columns]"
      ],
      "text/html": [
       "<div>\n",
       "<style scoped>\n",
       "    .dataframe tbody tr th:only-of-type {\n",
       "        vertical-align: middle;\n",
       "    }\n",
       "\n",
       "    .dataframe tbody tr th {\n",
       "        vertical-align: top;\n",
       "    }\n",
       "\n",
       "    .dataframe thead th {\n",
       "        text-align: right;\n",
       "    }\n",
       "</style>\n",
       "<table border=\"1\" class=\"dataframe\">\n",
       "  <thead>\n",
       "    <tr style=\"text-align: right;\">\n",
       "      <th></th>\n",
       "      <th>InvoiceNo</th>\n",
       "      <th>StockCode</th>\n",
       "      <th>Description</th>\n",
       "      <th>Quantity</th>\n",
       "      <th>InvoiceDate</th>\n",
       "      <th>UnitPrice</th>\n",
       "      <th>CustomerID</th>\n",
       "      <th>Country</th>\n",
       "    </tr>\n",
       "  </thead>\n",
       "  <tbody>\n",
       "    <tr>\n",
       "      <th>0</th>\n",
       "      <td>536365</td>\n",
       "      <td>85123A</td>\n",
       "      <td>WHITE HANGING HEART T-LIGHT HOLDER</td>\n",
       "      <td>6</td>\n",
       "      <td>12/1/2010 8:26</td>\n",
       "      <td>2.55</td>\n",
       "      <td>17850.0</td>\n",
       "      <td>United Kingdom</td>\n",
       "    </tr>\n",
       "    <tr>\n",
       "      <th>1</th>\n",
       "      <td>536365</td>\n",
       "      <td>71053</td>\n",
       "      <td>WHITE METAL LANTERN</td>\n",
       "      <td>6</td>\n",
       "      <td>12/1/2010 8:26</td>\n",
       "      <td>3.39</td>\n",
       "      <td>17850.0</td>\n",
       "      <td>United Kingdom</td>\n",
       "    </tr>\n",
       "    <tr>\n",
       "      <th>2</th>\n",
       "      <td>536365</td>\n",
       "      <td>84406B</td>\n",
       "      <td>CREAM CUPID HEARTS COAT HANGER</td>\n",
       "      <td>8</td>\n",
       "      <td>12/1/2010 8:26</td>\n",
       "      <td>2.75</td>\n",
       "      <td>17850.0</td>\n",
       "      <td>United Kingdom</td>\n",
       "    </tr>\n",
       "    <tr>\n",
       "      <th>3</th>\n",
       "      <td>536365</td>\n",
       "      <td>84029G</td>\n",
       "      <td>KNITTED UNION FLAG HOT WATER BOTTLE</td>\n",
       "      <td>6</td>\n",
       "      <td>12/1/2010 8:26</td>\n",
       "      <td>3.39</td>\n",
       "      <td>17850.0</td>\n",
       "      <td>United Kingdom</td>\n",
       "    </tr>\n",
       "    <tr>\n",
       "      <th>4</th>\n",
       "      <td>536365</td>\n",
       "      <td>84029E</td>\n",
       "      <td>RED WOOLLY HOTTIE WHITE HEART.</td>\n",
       "      <td>6</td>\n",
       "      <td>12/1/2010 8:26</td>\n",
       "      <td>3.39</td>\n",
       "      <td>17850.0</td>\n",
       "      <td>United Kingdom</td>\n",
       "    </tr>\n",
       "    <tr>\n",
       "      <th>...</th>\n",
       "      <td>...</td>\n",
       "      <td>...</td>\n",
       "      <td>...</td>\n",
       "      <td>...</td>\n",
       "      <td>...</td>\n",
       "      <td>...</td>\n",
       "      <td>...</td>\n",
       "      <td>...</td>\n",
       "    </tr>\n",
       "    <tr>\n",
       "      <th>541904</th>\n",
       "      <td>581587</td>\n",
       "      <td>22613</td>\n",
       "      <td>PACK OF 20 SPACEBOY NAPKINS</td>\n",
       "      <td>12</td>\n",
       "      <td>12/9/2011 12:50</td>\n",
       "      <td>0.85</td>\n",
       "      <td>12680.0</td>\n",
       "      <td>France</td>\n",
       "    </tr>\n",
       "    <tr>\n",
       "      <th>541905</th>\n",
       "      <td>581587</td>\n",
       "      <td>22899</td>\n",
       "      <td>CHILDREN'S APRON DOLLY GIRL</td>\n",
       "      <td>6</td>\n",
       "      <td>12/9/2011 12:50</td>\n",
       "      <td>2.10</td>\n",
       "      <td>12680.0</td>\n",
       "      <td>France</td>\n",
       "    </tr>\n",
       "    <tr>\n",
       "      <th>541906</th>\n",
       "      <td>581587</td>\n",
       "      <td>23254</td>\n",
       "      <td>CHILDRENS CUTLERY DOLLY GIRL</td>\n",
       "      <td>4</td>\n",
       "      <td>12/9/2011 12:50</td>\n",
       "      <td>4.15</td>\n",
       "      <td>12680.0</td>\n",
       "      <td>France</td>\n",
       "    </tr>\n",
       "    <tr>\n",
       "      <th>541907</th>\n",
       "      <td>581587</td>\n",
       "      <td>23255</td>\n",
       "      <td>CHILDRENS CUTLERY CIRCUS PARADE</td>\n",
       "      <td>4</td>\n",
       "      <td>12/9/2011 12:50</td>\n",
       "      <td>4.15</td>\n",
       "      <td>12680.0</td>\n",
       "      <td>France</td>\n",
       "    </tr>\n",
       "    <tr>\n",
       "      <th>541908</th>\n",
       "      <td>581587</td>\n",
       "      <td>22138</td>\n",
       "      <td>BAKING SET 9 PIECE RETROSPOT</td>\n",
       "      <td>3</td>\n",
       "      <td>12/9/2011 12:50</td>\n",
       "      <td>4.95</td>\n",
       "      <td>12680.0</td>\n",
       "      <td>France</td>\n",
       "    </tr>\n",
       "  </tbody>\n",
       "</table>\n",
       "<p>541909 rows × 8 columns</p>\n",
       "</div>"
      ]
     },
     "execution_count": 228,
     "metadata": {},
     "output_type": "execute_result"
    }
   ],
   "execution_count": 228
  },
  {
   "metadata": {
    "ExecuteTime": {
     "end_time": "2025-07-23T07:50:57.254329Z",
     "start_time": "2025-07-23T07:50:57.162924Z"
    }
   },
   "cell_type": "code",
   "source": "data.describe()",
   "id": "dff2446a5abbf52d",
   "outputs": [
    {
     "data": {
      "text/plain": [
       "            Quantity      UnitPrice     CustomerID\n",
       "count  541909.000000  541909.000000  406829.000000\n",
       "mean        9.552250       4.611114   15287.690570\n",
       "std       218.081158      96.759853    1713.600303\n",
       "min    -80995.000000  -11062.060000   12346.000000\n",
       "25%         1.000000       1.250000   13953.000000\n",
       "50%         3.000000       2.080000   15152.000000\n",
       "75%        10.000000       4.130000   16791.000000\n",
       "max     80995.000000   38970.000000   18287.000000"
      ],
      "text/html": [
       "<div>\n",
       "<style scoped>\n",
       "    .dataframe tbody tr th:only-of-type {\n",
       "        vertical-align: middle;\n",
       "    }\n",
       "\n",
       "    .dataframe tbody tr th {\n",
       "        vertical-align: top;\n",
       "    }\n",
       "\n",
       "    .dataframe thead th {\n",
       "        text-align: right;\n",
       "    }\n",
       "</style>\n",
       "<table border=\"1\" class=\"dataframe\">\n",
       "  <thead>\n",
       "    <tr style=\"text-align: right;\">\n",
       "      <th></th>\n",
       "      <th>Quantity</th>\n",
       "      <th>UnitPrice</th>\n",
       "      <th>CustomerID</th>\n",
       "    </tr>\n",
       "  </thead>\n",
       "  <tbody>\n",
       "    <tr>\n",
       "      <th>count</th>\n",
       "      <td>541909.000000</td>\n",
       "      <td>541909.000000</td>\n",
       "      <td>406829.000000</td>\n",
       "    </tr>\n",
       "    <tr>\n",
       "      <th>mean</th>\n",
       "      <td>9.552250</td>\n",
       "      <td>4.611114</td>\n",
       "      <td>15287.690570</td>\n",
       "    </tr>\n",
       "    <tr>\n",
       "      <th>std</th>\n",
       "      <td>218.081158</td>\n",
       "      <td>96.759853</td>\n",
       "      <td>1713.600303</td>\n",
       "    </tr>\n",
       "    <tr>\n",
       "      <th>min</th>\n",
       "      <td>-80995.000000</td>\n",
       "      <td>-11062.060000</td>\n",
       "      <td>12346.000000</td>\n",
       "    </tr>\n",
       "    <tr>\n",
       "      <th>25%</th>\n",
       "      <td>1.000000</td>\n",
       "      <td>1.250000</td>\n",
       "      <td>13953.000000</td>\n",
       "    </tr>\n",
       "    <tr>\n",
       "      <th>50%</th>\n",
       "      <td>3.000000</td>\n",
       "      <td>2.080000</td>\n",
       "      <td>15152.000000</td>\n",
       "    </tr>\n",
       "    <tr>\n",
       "      <th>75%</th>\n",
       "      <td>10.000000</td>\n",
       "      <td>4.130000</td>\n",
       "      <td>16791.000000</td>\n",
       "    </tr>\n",
       "    <tr>\n",
       "      <th>max</th>\n",
       "      <td>80995.000000</td>\n",
       "      <td>38970.000000</td>\n",
       "      <td>18287.000000</td>\n",
       "    </tr>\n",
       "  </tbody>\n",
       "</table>\n",
       "</div>"
      ]
     },
     "execution_count": 229,
     "metadata": {},
     "output_type": "execute_result"
    }
   ],
   "execution_count": 229
  },
  {
   "metadata": {
    "ExecuteTime": {
     "end_time": "2025-07-23T07:50:57.507621Z",
     "start_time": "2025-07-23T07:50:57.384564Z"
    }
   },
   "cell_type": "code",
   "source": "data.info()",
   "id": "86474e56c85be1f8",
   "outputs": [
    {
     "name": "stdout",
     "output_type": "stream",
     "text": [
      "<class 'pandas.core.frame.DataFrame'>\n",
      "RangeIndex: 541909 entries, 0 to 541908\n",
      "Data columns (total 8 columns):\n",
      " #   Column       Non-Null Count   Dtype  \n",
      "---  ------       --------------   -----  \n",
      " 0   InvoiceNo    541909 non-null  object \n",
      " 1   StockCode    541909 non-null  object \n",
      " 2   Description  540455 non-null  object \n",
      " 3   Quantity     541909 non-null  int64  \n",
      " 4   InvoiceDate  541909 non-null  object \n",
      " 5   UnitPrice    541909 non-null  float64\n",
      " 6   CustomerID   406829 non-null  float64\n",
      " 7   Country      541909 non-null  object \n",
      "dtypes: float64(2), int64(1), object(5)\n",
      "memory usage: 33.1+ MB\n"
     ]
    }
   ],
   "execution_count": 230
  },
  {
   "metadata": {
    "ExecuteTime": {
     "end_time": "2025-07-23T07:50:57.662943Z",
     "start_time": "2025-07-23T07:50:57.623653Z"
    }
   },
   "cell_type": "code",
   "source": "data.Country.value_counts()",
   "id": "f0d07bdfed772f40",
   "outputs": [
    {
     "data": {
      "text/plain": [
       "Country\n",
       "United Kingdom          495478\n",
       "Germany                   9495\n",
       "France                    8557\n",
       "EIRE                      8196\n",
       "Spain                     2533\n",
       "Netherlands               2371\n",
       "Belgium                   2069\n",
       "Switzerland               2002\n",
       "Portugal                  1519\n",
       "Australia                 1259\n",
       "Norway                    1086\n",
       "Italy                      803\n",
       "Channel Islands            758\n",
       "Finland                    695\n",
       "Cyprus                     622\n",
       "Sweden                     462\n",
       "Unspecified                446\n",
       "Austria                    401\n",
       "Denmark                    389\n",
       "Japan                      358\n",
       "Poland                     341\n",
       "Israel                     297\n",
       "USA                        291\n",
       "Hong Kong                  288\n",
       "Singapore                  229\n",
       "Iceland                    182\n",
       "Canada                     151\n",
       "Greece                     146\n",
       "Malta                      127\n",
       "United Arab Emirates        68\n",
       "European Community          61\n",
       "RSA                         58\n",
       "Lebanon                     45\n",
       "Lithuania                   35\n",
       "Brazil                      32\n",
       "Czech Republic              30\n",
       "Bahrain                     19\n",
       "Saudi Arabia                10\n",
       "Name: count, dtype: int64"
      ]
     },
     "execution_count": 231,
     "metadata": {},
     "output_type": "execute_result"
    }
   ],
   "execution_count": 231
  },
  {
   "metadata": {},
   "cell_type": "markdown",
   "source": [
    "# **** OK Based on this data what we have we have some pointers to note down\n",
    "## **** 1. The Description and Customer Id are the columns having null values\n",
    "### so how can we utilize that --\n",
    "#### - data having null customerid well we cant do anything about it since the clv prediction have main need of customer info so we need to drop them\n",
    "#### - As for Description we can ignore it since products can be many but the target here is clv so we are focusing on value side moreso its doesnt hold much importance right now and if later we can deal with it\n",
    "\n",
    "##  Understand the Data\n",
    ">We’ll use these columns:\n",
    "\n",
    "- **InvoiceNo**: Unique transaction ID (can be repeated for same order with different products)\n",
    "\n",
    "- **InvoiceDate**: Timestamp of transaction (important for time features like recency)\n",
    "\n",
    "- **CustomerID**: Unique ID for customer (null for guests)\n",
    "\n",
    "- **Quantity**: Number of products (can be negative for returns)\n",
    "\n",
    "- **UnitPrice**: Price per product\n",
    "\n",
    "- **Country**: Country of transaction"
   ],
   "id": "24a08fc6a1272d96"
  },
  {
   "metadata": {
    "ExecuteTime": {
     "end_time": "2025-07-23T07:50:57.853289Z",
     "start_time": "2025-07-23T07:50:57.807739Z"
    }
   },
   "cell_type": "code",
   "source": "data.dropna(subset=[\"CustomerID\"],inplace=True)",
   "id": "3b49656478c54e0",
   "outputs": [],
   "execution_count": 232
  },
  {
   "metadata": {
    "ExecuteTime": {
     "end_time": "2025-07-23T07:50:58.012979Z",
     "start_time": "2025-07-23T07:50:57.950996Z"
    }
   },
   "cell_type": "code",
   "source": "data.info()",
   "id": "b763016bbf22081f",
   "outputs": [
    {
     "name": "stdout",
     "output_type": "stream",
     "text": [
      "<class 'pandas.core.frame.DataFrame'>\n",
      "Index: 406829 entries, 0 to 541908\n",
      "Data columns (total 8 columns):\n",
      " #   Column       Non-Null Count   Dtype  \n",
      "---  ------       --------------   -----  \n",
      " 0   InvoiceNo    406829 non-null  object \n",
      " 1   StockCode    406829 non-null  object \n",
      " 2   Description  406829 non-null  object \n",
      " 3   Quantity     406829 non-null  int64  \n",
      " 4   InvoiceDate  406829 non-null  object \n",
      " 5   UnitPrice    406829 non-null  float64\n",
      " 6   CustomerID   406829 non-null  float64\n",
      " 7   Country      406829 non-null  object \n",
      "dtypes: float64(2), int64(1), object(5)\n",
      "memory usage: 27.9+ MB\n"
     ]
    }
   ],
   "execution_count": 233
  },
  {
   "metadata": {},
   "cell_type": "markdown",
   "source": "## \"unexpectedly the null values in the description automatically resolved by removing the customer ID null values which is win win situation lets move ahead\"",
   "id": "c168b66d7337c988"
  },
  {
   "metadata": {},
   "cell_type": "markdown",
   "source": [
    ">  So lets  move ahead\n",
    "###"
   ],
   "id": "8b6de15b3433132c"
  },
  {
   "metadata": {
    "ExecuteTime": {
     "end_time": "2025-07-23T07:50:58.178433Z",
     "start_time": "2025-07-23T07:50:58.145240Z"
    }
   },
   "cell_type": "code",
   "source": "data.InvoiceNo.value_counts()",
   "id": "3fa3071f927ff0c6",
   "outputs": [
    {
     "data": {
      "text/plain": [
       "InvoiceNo\n",
       "576339     542\n",
       "579196     533\n",
       "580727     529\n",
       "578270     442\n",
       "573576     435\n",
       "          ... \n",
       "C544442      1\n",
       "C581568      1\n",
       "581566       1\n",
       "558527       1\n",
       "581491       1\n",
       "Name: count, Length: 22190, dtype: int64"
      ]
     },
     "execution_count": 234,
     "metadata": {},
     "output_type": "execute_result"
    }
   ],
   "execution_count": 234
  },
  {
   "metadata": {},
   "cell_type": "markdown",
   "source": [
    "## Cleaning and make data workable\n",
    ">Here we remove cancelled orders in which InvoiceId started by C and conver the Invoice date to proper usable format by using to_datetime\n",
    "\n",
    "> and calculating TotalPrice and smartly selecting only positive one to be there"
   ],
   "id": "c866d9a35ff13e29"
  },
  {
   "metadata": {
    "ExecuteTime": {
     "end_time": "2025-07-23T07:50:58.513564Z",
     "start_time": "2025-07-23T07:50:58.294712Z"
    }
   },
   "cell_type": "code",
   "source": [
    "# Remove canceled orders (those with InvoiceNo starting with \"C\")\n",
    "data = data[~data.InvoiceNo.astype(str).str.startswith('C')]\n",
    "\n",
    "# Convert InvoiceDate to datetime\n",
    "data.InvoiceDate = pd.to_datetime(data.InvoiceDate)\n",
    "\n",
    "# Create TotalPrice\n",
    "data[\"TotalPrice\"] = data.Quantity* data.UnitPrice\n",
    "\n",
    "# Remove negative values (for refunds or errors)\n",
    "data = data[data[\"TotalPrice\"] > 0]"
   ],
   "id": "a0fe765aab240968",
   "outputs": [
    {
     "name": "stderr",
     "output_type": "stream",
     "text": [
      "/tmp/ipykernel_6470/4252480732.py:5: SettingWithCopyWarning: \n",
      "A value is trying to be set on a copy of a slice from a DataFrame.\n",
      "Try using .loc[row_indexer,col_indexer] = value instead\n",
      "\n",
      "See the caveats in the documentation: https://pandas.pydata.org/pandas-docs/stable/user_guide/indexing.html#returning-a-view-versus-a-copy\n",
      "  data.InvoiceDate = pd.to_datetime(data.InvoiceDate)\n",
      "/tmp/ipykernel_6470/4252480732.py:8: SettingWithCopyWarning: \n",
      "A value is trying to be set on a copy of a slice from a DataFrame.\n",
      "Try using .loc[row_indexer,col_indexer] = value instead\n",
      "\n",
      "See the caveats in the documentation: https://pandas.pydata.org/pandas-docs/stable/user_guide/indexing.html#returning-a-view-versus-a-copy\n",
      "  data[\"TotalPrice\"] = data.Quantity* data.UnitPrice\n"
     ]
    }
   ],
   "execution_count": 235
  },
  {
   "metadata": {
    "ExecuteTime": {
     "end_time": "2025-07-23T07:50:58.596087Z",
     "start_time": "2025-07-23T07:50:58.586525Z"
    }
   },
   "cell_type": "code",
   "source": "data",
   "id": "df50b7e98800a8f",
   "outputs": [
    {
     "data": {
      "text/plain": [
       "       InvoiceNo StockCode                          Description  Quantity  \\\n",
       "0         536365    85123A   WHITE HANGING HEART T-LIGHT HOLDER         6   \n",
       "1         536365     71053                  WHITE METAL LANTERN         6   \n",
       "2         536365    84406B       CREAM CUPID HEARTS COAT HANGER         8   \n",
       "3         536365    84029G  KNITTED UNION FLAG HOT WATER BOTTLE         6   \n",
       "4         536365    84029E       RED WOOLLY HOTTIE WHITE HEART.         6   \n",
       "...          ...       ...                                  ...       ...   \n",
       "541904    581587     22613          PACK OF 20 SPACEBOY NAPKINS        12   \n",
       "541905    581587     22899         CHILDREN'S APRON DOLLY GIRL          6   \n",
       "541906    581587     23254        CHILDRENS CUTLERY DOLLY GIRL          4   \n",
       "541907    581587     23255      CHILDRENS CUTLERY CIRCUS PARADE         4   \n",
       "541908    581587     22138        BAKING SET 9 PIECE RETROSPOT          3   \n",
       "\n",
       "               InvoiceDate  UnitPrice  CustomerID         Country  TotalPrice  \n",
       "0      2010-12-01 08:26:00       2.55     17850.0  United Kingdom       15.30  \n",
       "1      2010-12-01 08:26:00       3.39     17850.0  United Kingdom       20.34  \n",
       "2      2010-12-01 08:26:00       2.75     17850.0  United Kingdom       22.00  \n",
       "3      2010-12-01 08:26:00       3.39     17850.0  United Kingdom       20.34  \n",
       "4      2010-12-01 08:26:00       3.39     17850.0  United Kingdom       20.34  \n",
       "...                    ...        ...         ...             ...         ...  \n",
       "541904 2011-12-09 12:50:00       0.85     12680.0          France       10.20  \n",
       "541905 2011-12-09 12:50:00       2.10     12680.0          France       12.60  \n",
       "541906 2011-12-09 12:50:00       4.15     12680.0          France       16.60  \n",
       "541907 2011-12-09 12:50:00       4.15     12680.0          France       16.60  \n",
       "541908 2011-12-09 12:50:00       4.95     12680.0          France       14.85  \n",
       "\n",
       "[397884 rows x 9 columns]"
      ],
      "text/html": [
       "<div>\n",
       "<style scoped>\n",
       "    .dataframe tbody tr th:only-of-type {\n",
       "        vertical-align: middle;\n",
       "    }\n",
       "\n",
       "    .dataframe tbody tr th {\n",
       "        vertical-align: top;\n",
       "    }\n",
       "\n",
       "    .dataframe thead th {\n",
       "        text-align: right;\n",
       "    }\n",
       "</style>\n",
       "<table border=\"1\" class=\"dataframe\">\n",
       "  <thead>\n",
       "    <tr style=\"text-align: right;\">\n",
       "      <th></th>\n",
       "      <th>InvoiceNo</th>\n",
       "      <th>StockCode</th>\n",
       "      <th>Description</th>\n",
       "      <th>Quantity</th>\n",
       "      <th>InvoiceDate</th>\n",
       "      <th>UnitPrice</th>\n",
       "      <th>CustomerID</th>\n",
       "      <th>Country</th>\n",
       "      <th>TotalPrice</th>\n",
       "    </tr>\n",
       "  </thead>\n",
       "  <tbody>\n",
       "    <tr>\n",
       "      <th>0</th>\n",
       "      <td>536365</td>\n",
       "      <td>85123A</td>\n",
       "      <td>WHITE HANGING HEART T-LIGHT HOLDER</td>\n",
       "      <td>6</td>\n",
       "      <td>2010-12-01 08:26:00</td>\n",
       "      <td>2.55</td>\n",
       "      <td>17850.0</td>\n",
       "      <td>United Kingdom</td>\n",
       "      <td>15.30</td>\n",
       "    </tr>\n",
       "    <tr>\n",
       "      <th>1</th>\n",
       "      <td>536365</td>\n",
       "      <td>71053</td>\n",
       "      <td>WHITE METAL LANTERN</td>\n",
       "      <td>6</td>\n",
       "      <td>2010-12-01 08:26:00</td>\n",
       "      <td>3.39</td>\n",
       "      <td>17850.0</td>\n",
       "      <td>United Kingdom</td>\n",
       "      <td>20.34</td>\n",
       "    </tr>\n",
       "    <tr>\n",
       "      <th>2</th>\n",
       "      <td>536365</td>\n",
       "      <td>84406B</td>\n",
       "      <td>CREAM CUPID HEARTS COAT HANGER</td>\n",
       "      <td>8</td>\n",
       "      <td>2010-12-01 08:26:00</td>\n",
       "      <td>2.75</td>\n",
       "      <td>17850.0</td>\n",
       "      <td>United Kingdom</td>\n",
       "      <td>22.00</td>\n",
       "    </tr>\n",
       "    <tr>\n",
       "      <th>3</th>\n",
       "      <td>536365</td>\n",
       "      <td>84029G</td>\n",
       "      <td>KNITTED UNION FLAG HOT WATER BOTTLE</td>\n",
       "      <td>6</td>\n",
       "      <td>2010-12-01 08:26:00</td>\n",
       "      <td>3.39</td>\n",
       "      <td>17850.0</td>\n",
       "      <td>United Kingdom</td>\n",
       "      <td>20.34</td>\n",
       "    </tr>\n",
       "    <tr>\n",
       "      <th>4</th>\n",
       "      <td>536365</td>\n",
       "      <td>84029E</td>\n",
       "      <td>RED WOOLLY HOTTIE WHITE HEART.</td>\n",
       "      <td>6</td>\n",
       "      <td>2010-12-01 08:26:00</td>\n",
       "      <td>3.39</td>\n",
       "      <td>17850.0</td>\n",
       "      <td>United Kingdom</td>\n",
       "      <td>20.34</td>\n",
       "    </tr>\n",
       "    <tr>\n",
       "      <th>...</th>\n",
       "      <td>...</td>\n",
       "      <td>...</td>\n",
       "      <td>...</td>\n",
       "      <td>...</td>\n",
       "      <td>...</td>\n",
       "      <td>...</td>\n",
       "      <td>...</td>\n",
       "      <td>...</td>\n",
       "      <td>...</td>\n",
       "    </tr>\n",
       "    <tr>\n",
       "      <th>541904</th>\n",
       "      <td>581587</td>\n",
       "      <td>22613</td>\n",
       "      <td>PACK OF 20 SPACEBOY NAPKINS</td>\n",
       "      <td>12</td>\n",
       "      <td>2011-12-09 12:50:00</td>\n",
       "      <td>0.85</td>\n",
       "      <td>12680.0</td>\n",
       "      <td>France</td>\n",
       "      <td>10.20</td>\n",
       "    </tr>\n",
       "    <tr>\n",
       "      <th>541905</th>\n",
       "      <td>581587</td>\n",
       "      <td>22899</td>\n",
       "      <td>CHILDREN'S APRON DOLLY GIRL</td>\n",
       "      <td>6</td>\n",
       "      <td>2011-12-09 12:50:00</td>\n",
       "      <td>2.10</td>\n",
       "      <td>12680.0</td>\n",
       "      <td>France</td>\n",
       "      <td>12.60</td>\n",
       "    </tr>\n",
       "    <tr>\n",
       "      <th>541906</th>\n",
       "      <td>581587</td>\n",
       "      <td>23254</td>\n",
       "      <td>CHILDRENS CUTLERY DOLLY GIRL</td>\n",
       "      <td>4</td>\n",
       "      <td>2011-12-09 12:50:00</td>\n",
       "      <td>4.15</td>\n",
       "      <td>12680.0</td>\n",
       "      <td>France</td>\n",
       "      <td>16.60</td>\n",
       "    </tr>\n",
       "    <tr>\n",
       "      <th>541907</th>\n",
       "      <td>581587</td>\n",
       "      <td>23255</td>\n",
       "      <td>CHILDRENS CUTLERY CIRCUS PARADE</td>\n",
       "      <td>4</td>\n",
       "      <td>2011-12-09 12:50:00</td>\n",
       "      <td>4.15</td>\n",
       "      <td>12680.0</td>\n",
       "      <td>France</td>\n",
       "      <td>16.60</td>\n",
       "    </tr>\n",
       "    <tr>\n",
       "      <th>541908</th>\n",
       "      <td>581587</td>\n",
       "      <td>22138</td>\n",
       "      <td>BAKING SET 9 PIECE RETROSPOT</td>\n",
       "      <td>3</td>\n",
       "      <td>2011-12-09 12:50:00</td>\n",
       "      <td>4.95</td>\n",
       "      <td>12680.0</td>\n",
       "      <td>France</td>\n",
       "      <td>14.85</td>\n",
       "    </tr>\n",
       "  </tbody>\n",
       "</table>\n",
       "<p>397884 rows × 9 columns</p>\n",
       "</div>"
      ]
     },
     "execution_count": 236,
     "metadata": {},
     "output_type": "execute_result"
    }
   ],
   "execution_count": 236
  },
  {
   "metadata": {},
   "cell_type": "markdown",
   "source": [
    "## Split into Calibration and Holdout Periods\n",
    ">We split transactions before June 1, 2011 for training (features) and after for target (CLV)."
   ],
   "id": "aa7b2ac9657d324e"
  },
  {
   "metadata": {
    "ExecuteTime": {
     "end_time": "2025-07-23T07:50:58.939789Z",
     "start_time": "2025-07-23T07:50:58.761531Z"
    }
   },
   "cell_type": "code",
   "source": [
    "cutoff_date = pd.to_datetime(\"2011-06-01\")\n",
    "calibration_df = data[data['InvoiceDate'] < cutoff_date]\n",
    "holdout_df = data[data['InvoiceDate'] >= cutoff_date]\n"
   ],
   "id": "43033e9bedf7038a",
   "outputs": [],
   "execution_count": 237
  },
  {
   "metadata": {},
   "cell_type": "markdown",
   "source": [
    "# Create Features from Calibration Period\n",
    "## For each CustomerID, calculate:\n",
    ">recency_days: Days since last purchase before cutoff\n",
    "- latest recency points out how new and how retained a customer is\n",
    "\n",
    ">frequency: No. of orders\n",
    "- frequency shows interest  of customer and then trust value for him/her to have frequency of ordering\n",
    "\n",
    ">monetary: Total spend\n",
    "- Potential revenue the customer brings to the business\n",
    "\n",
    ">avg_order_value"
   ],
   "id": "d48a0f5f8ec306ca"
  },
  {
   "metadata": {
    "ExecuteTime": {
     "end_time": "2025-07-23T07:50:59.295833Z",
     "start_time": "2025-07-23T07:50:59.006228Z"
    }
   },
   "cell_type": "code",
   "source": [
    "snapshot_date = calibration_df['InvoiceDate'].max()\n",
    "\n",
    "features = calibration_df.groupby('CustomerID').agg({\n",
    "    'InvoiceDate': lambda x: (snapshot_date - x.max()).days,\n",
    "    'InvoiceNo': 'nunique',\n",
    "    'TotalPrice': 'sum'\n",
    "}).reset_index()\n",
    "\n",
    "features.columns = ['CustomerID', 'recency_days', 'frequency', 'monetary']\n",
    "\n",
    "# Optional: add avg order value\n",
    "features[\"avg_order_value\"] = pd.to_numeric(features['monetary']) / pd.to_numeric(features['frequency'])\n"
   ],
   "id": "1e4e1595faee9902",
   "outputs": [],
   "execution_count": 238
  },
  {
   "metadata": {
    "ExecuteTime": {
     "end_time": "2025-07-23T07:50:59.399743Z",
     "start_time": "2025-07-23T07:50:59.391770Z"
    }
   },
   "cell_type": "code",
   "source": "features",
   "id": "c18c32e771b6c48b",
   "outputs": [
    {
     "data": {
      "text/plain": [
       "      CustomerID  recency_days  frequency  monetary  avg_order_value\n",
       "0        12346.0           133          1  77183.60     77183.600000\n",
       "1        12347.0            54          3   1823.43       607.810000\n",
       "2        12348.0            56          3   1487.24       495.746667\n",
       "3        12350.0           117          1    334.40       334.400000\n",
       "4        12352.0            69          5   1561.81       312.362000\n",
       "...          ...           ...        ...       ...              ...\n",
       "2713     18272.0            32          2    980.54       490.270000\n",
       "2714     18273.0            65          1     51.00        51.000000\n",
       "2715     18280.0            85          1    180.60       180.600000\n",
       "2716     18283.0             8          5    535.05       107.010000\n",
       "2717     18287.0             9          1    765.28       765.280000\n",
       "\n",
       "[2718 rows x 5 columns]"
      ],
      "text/html": [
       "<div>\n",
       "<style scoped>\n",
       "    .dataframe tbody tr th:only-of-type {\n",
       "        vertical-align: middle;\n",
       "    }\n",
       "\n",
       "    .dataframe tbody tr th {\n",
       "        vertical-align: top;\n",
       "    }\n",
       "\n",
       "    .dataframe thead th {\n",
       "        text-align: right;\n",
       "    }\n",
       "</style>\n",
       "<table border=\"1\" class=\"dataframe\">\n",
       "  <thead>\n",
       "    <tr style=\"text-align: right;\">\n",
       "      <th></th>\n",
       "      <th>CustomerID</th>\n",
       "      <th>recency_days</th>\n",
       "      <th>frequency</th>\n",
       "      <th>monetary</th>\n",
       "      <th>avg_order_value</th>\n",
       "    </tr>\n",
       "  </thead>\n",
       "  <tbody>\n",
       "    <tr>\n",
       "      <th>0</th>\n",
       "      <td>12346.0</td>\n",
       "      <td>133</td>\n",
       "      <td>1</td>\n",
       "      <td>77183.60</td>\n",
       "      <td>77183.600000</td>\n",
       "    </tr>\n",
       "    <tr>\n",
       "      <th>1</th>\n",
       "      <td>12347.0</td>\n",
       "      <td>54</td>\n",
       "      <td>3</td>\n",
       "      <td>1823.43</td>\n",
       "      <td>607.810000</td>\n",
       "    </tr>\n",
       "    <tr>\n",
       "      <th>2</th>\n",
       "      <td>12348.0</td>\n",
       "      <td>56</td>\n",
       "      <td>3</td>\n",
       "      <td>1487.24</td>\n",
       "      <td>495.746667</td>\n",
       "    </tr>\n",
       "    <tr>\n",
       "      <th>3</th>\n",
       "      <td>12350.0</td>\n",
       "      <td>117</td>\n",
       "      <td>1</td>\n",
       "      <td>334.40</td>\n",
       "      <td>334.400000</td>\n",
       "    </tr>\n",
       "    <tr>\n",
       "      <th>4</th>\n",
       "      <td>12352.0</td>\n",
       "      <td>69</td>\n",
       "      <td>5</td>\n",
       "      <td>1561.81</td>\n",
       "      <td>312.362000</td>\n",
       "    </tr>\n",
       "    <tr>\n",
       "      <th>...</th>\n",
       "      <td>...</td>\n",
       "      <td>...</td>\n",
       "      <td>...</td>\n",
       "      <td>...</td>\n",
       "      <td>...</td>\n",
       "    </tr>\n",
       "    <tr>\n",
       "      <th>2713</th>\n",
       "      <td>18272.0</td>\n",
       "      <td>32</td>\n",
       "      <td>2</td>\n",
       "      <td>980.54</td>\n",
       "      <td>490.270000</td>\n",
       "    </tr>\n",
       "    <tr>\n",
       "      <th>2714</th>\n",
       "      <td>18273.0</td>\n",
       "      <td>65</td>\n",
       "      <td>1</td>\n",
       "      <td>51.00</td>\n",
       "      <td>51.000000</td>\n",
       "    </tr>\n",
       "    <tr>\n",
       "      <th>2715</th>\n",
       "      <td>18280.0</td>\n",
       "      <td>85</td>\n",
       "      <td>1</td>\n",
       "      <td>180.60</td>\n",
       "      <td>180.600000</td>\n",
       "    </tr>\n",
       "    <tr>\n",
       "      <th>2716</th>\n",
       "      <td>18283.0</td>\n",
       "      <td>8</td>\n",
       "      <td>5</td>\n",
       "      <td>535.05</td>\n",
       "      <td>107.010000</td>\n",
       "    </tr>\n",
       "    <tr>\n",
       "      <th>2717</th>\n",
       "      <td>18287.0</td>\n",
       "      <td>9</td>\n",
       "      <td>1</td>\n",
       "      <td>765.28</td>\n",
       "      <td>765.280000</td>\n",
       "    </tr>\n",
       "  </tbody>\n",
       "</table>\n",
       "<p>2718 rows × 5 columns</p>\n",
       "</div>"
      ]
     },
     "execution_count": 239,
     "metadata": {},
     "output_type": "execute_result"
    }
   ],
   "execution_count": 239
  },
  {
   "metadata": {},
   "cell_type": "markdown",
   "source": "> What it implies--👤 Customer 12346.0 hasn't purchased in 133 days, made 1 purchase, spent 77,183.60 total, with an average order of the same value.",
   "id": "d75209702c6a9180"
  },
  {
   "metadata": {},
   "cell_type": "markdown",
   "source": [
    "# Estimate Future Customer Lifetime Value (CLV)\n",
    "## It involves steps--\n",
    ">Calculate Purchase Frequency (global)\n",
    "\n",
    ">Calculate Repeat Rate & Churn Rate\n",
    "\n",
    ">Calculate Profit Margin (Assumption Based)\n",
    "\n",
    ">Calculate Customer Lifetime Value (CLV)\n",
    "- Formula:\n",
    "#### CLV=Avg_Order_value * Purchase frequency * Profit Margin/Churn rate\n"
   ],
   "id": "6f0da8b23be2cf78"
  },
  {
   "metadata": {
    "ExecuteTime": {
     "end_time": "2025-07-23T07:51:00.041184Z",
     "start_time": "2025-07-23T07:50:59.510831Z"
    }
   },
   "cell_type": "code",
   "source": [
    "# Check the type first (debug step)\n",
    "print(\"features type:\", type(features))\n",
    "\n",
    "# Ensure it's a DataFrame\n",
    "if not isinstance(features, pd.DataFrame):\n",
    "    raise TypeError(\"❌ 'features' is not a DataFrame — check your previous steps or variable assignments.\")\n",
    "\n",
    "# 1. Heuristic CLV Calculation\n",
    "purchase_frequency = features['frequency'].sum() / features.shape[0]\n",
    "repeat_rate = features[features['frequency'] > 1].shape[0] / features.shape[0]\n",
    "churn_rate = 1 - repeat_rate\n",
    "profit_margin = 0.10\n",
    "\n",
    "features['CLV'] = features['avg_order_value'] * purchase_frequency * (1 / churn_rate) * profit_margin\n",
    "\n",
    "# 2. First Purchase Date (Customer Tenure)\n",
    "first_purchase = data.groupby('CustomerID')['InvoiceDate'].min().reset_index()\n",
    "first_purchase.columns = ['CustomerID', 'first_purchase_date']\n",
    "features = pd.merge(features, first_purchase, on='CustomerID', how='left')\n",
    "\n",
    "max_date = data['InvoiceDate'].max()\n",
    "features['customer_age_days'] = (max_date - features['first_purchase_date']).dt.days\n",
    "features.drop(columns='first_purchase_date', inplace=True)\n",
    "\n",
    "# 3. Avg Days Between Orders\n",
    "data_sorted = data.sort_values(by=['CustomerID', 'InvoiceDate'])\n",
    "data_sorted['order_diff'] = data_sorted.groupby('CustomerID')['InvoiceDate'].diff().dt.days\n",
    "\n",
    "avg_days = data_sorted.groupby('CustomerID')['order_diff'].mean().reset_index()\n",
    "avg_days.columns = ['CustomerID', 'avg_days_between_orders']\n",
    "features = pd.merge(features, avg_days, on='CustomerID', how='left')\n",
    "\n",
    "# 4. Actual Future CLV from holdout_df\n",
    "clv_target = holdout_df.groupby('CustomerID')['TotalPrice'].sum().reset_index()\n",
    "clv_target.columns = ['CustomerID', 'FutureCLV']\n",
    "\n",
    "# 5. Merge with features\n",
    "final_df = pd.merge(features, clv_target, on='CustomerID', how='inner')\n",
    "\n",
    "# 6. Prepare Features & Target\n",
    "X = final_df[['recency_days', 'frequency', 'monetary', 'avg_order_value', 'customer_age_days', 'avg_days_between_orders']]\n",
    "y = final_df['FutureCLV']\n"
   ],
   "id": "e6d2146d0ced66e3",
   "outputs": [
    {
     "name": "stdout",
     "output_type": "stream",
     "text": [
      "features type: <class 'pandas.core.frame.DataFrame'>\n"
     ]
    }
   ],
   "execution_count": 240
  },
  {
   "metadata": {},
   "cell_type": "markdown",
   "source": "# Trying out correlation to find which features pair up good",
   "id": "4792cd0e8178e108"
  },
  {
   "metadata": {
    "ExecuteTime": {
     "end_time": "2025-07-23T07:51:00.844862Z",
     "start_time": "2025-07-23T07:51:00.115507Z"
    }
   },
   "cell_type": "code",
   "source": [
    "import seaborn as sns\n",
    "import matplotlib.pyplot as plt\n",
    "\n",
    "# Include all relevant numeric columns\n",
    "corr_columns = [\n",
    "    'recency_days',\n",
    "    'frequency',\n",
    "    'monetary',\n",
    "    'avg_order_value',\n",
    "    'customer_age_days',\n",
    "    'avg_days_between_orders',\n",
    "    'CLV',               # heuristic CLV\n",
    "    'FutureCLV'          # actual target\n",
    "]\n",
    "\n",
    "# Filter columns that exist in the DataFrame\n",
    "available_columns = [col for col in corr_columns if col in final_df.columns]\n",
    "\n",
    "# Compute correlation matrix\n",
    "corr = final_df[available_columns].corr()\n",
    "\n",
    "# Plot heatmap\n",
    "plt.figure(figsize=(10, 8))\n",
    "sns.heatmap(corr, annot=True, cmap='coolwarm', fmt=\".2f\", square=True)\n",
    "plt.title(\"Correlation Heatmap of Features vs FutureCLV\")\n",
    "plt.show()\n"
   ],
   "id": "a93903f829083aa8",
   "outputs": [
    {
     "data": {
      "text/plain": [
       "<Figure size 1000x800 with 2 Axes>"
      ],
      "image/png": "[encoded data removed]"
     },
     "metadata": {},
     "output_type": "display_data"
    }
   ],
   "execution_count": 241
  },
  {
   "metadata": {
    "ExecuteTime": {
     "end_time": "2025-07-23T07:51:01.144436Z",
     "start_time": "2025-07-23T07:51:01.037519Z"
    }
   },
   "cell_type": "code",
   "source": [
    "# Step 1: Filter recent data (last 30 days)\n",
    "recent_cutoff = data['InvoiceDate'].max() - pd.Timedelta(days=30)\n",
    "recent_data = data[data['InvoiceDate'] >= recent_cutoff]\n",
    "\n",
    "# Step 2: Compute recent frequency\n",
    "recent_freq = recent_data.groupby('CustomerID')['InvoiceNo'].nunique().reset_index()\n",
    "recent_freq.columns = ['CustomerID', 'recent_frequency']\n",
    "\n",
    "# Step 3: Compute recent monetary value\n",
    "recent_monetary = recent_data.groupby('CustomerID')['TotalPrice'].sum().reset_index()\n",
    "recent_monetary.columns = ['CustomerID', 'recent_monetary']\n",
    "\n",
    "# 🔍 Check before merge\n",
    "print(\"recent_freq sample:\\n\", recent_freq.head())\n",
    "print(\"recent_monetary sample:\\n\", recent_monetary.head())\n",
    "print(\"features columns before merge:\\n\", features.columns)\n",
    "\n",
    "# Step 4: Merge both recent metrics into features\n",
    "features = pd.merge(features, recent_freq, on='CustomerID', how='left')\n",
    "features = pd.merge(features, recent_monetary, on='CustomerID', how='left')\n",
    "\n",
    "# 🔍 Check after merge\n",
    "print(\"features columns after merge:\\n\", features.columns)\n",
    "\n",
    "# Step 5: Handle NaN values (✅ no FutureWarning)\n",
    "features['recent_frequency'] = features['recent_frequency'].fillna(0)\n",
    "features['recent_monetary'] = features['recent_monetary'].fillna(0)\n"
   ],
   "id": "9b1f94951cec81f8",
   "outputs": [
    {
     "name": "stdout",
     "output_type": "stream",
     "text": [
      "recent_freq sample:\n",
      "    CustomerID  recent_frequency\n",
      "0     12347.0                 1\n",
      "1     12349.0                 1\n",
      "2     12356.0                 1\n",
      "3     12358.0                 1\n",
      "4     12362.0                 1\n",
      "recent_monetary sample:\n",
      "    CustomerID  recent_monetary\n",
      "0     12347.0           224.82\n",
      "1     12349.0          1757.55\n",
      "2     12356.0            58.35\n",
      "3     12358.0           683.20\n",
      "4     12362.0           529.04\n",
      "features columns before merge:\n",
      " Index(['CustomerID', 'recency_days', 'frequency', 'monetary',\n",
      "       'avg_order_value', 'CLV', 'customer_age_days',\n",
      "       'avg_days_between_orders'],\n",
      "      dtype='object')\n",
      "features columns after merge:\n",
      " Index(['CustomerID', 'recency_days', 'frequency', 'monetary',\n",
      "       'avg_order_value', 'CLV', 'customer_age_days',\n",
      "       'avg_days_between_orders', 'recent_frequency', 'recent_monetary'],\n",
      "      dtype='object')\n"
     ]
    }
   ],
   "execution_count": 242
  },
  {
   "metadata": {
    "ExecuteTime": {
     "end_time": "2025-07-23T07:51:01.283692Z",
     "start_time": "2025-07-23T07:51:01.274184Z"
    }
   },
   "cell_type": "code",
   "source": [
    "# Drop CustomerID and any non-numeric columns (if any) from features\n",
    "X = features.drop(['CustomerID'], axis=1)\n",
    "\n",
    "# Define your target column (change this if you're predicting something else)\n",
    "# y = X.pop('TotalPrice')  # or any other target you defined\n"
   ],
   "id": "8e495e453cb282a",
   "outputs": [],
   "execution_count": 243
  },
  {
   "metadata": {
    "ExecuteTime": {
     "end_time": "2025-07-23T07:51:25.391251Z",
     "start_time": "2025-07-23T07:51:25.380489Z"
    }
   },
   "cell_type": "code",
   "source": "features.info()",
   "id": "a6954ef59f6ac0ea",
   "outputs": [
    {
     "name": "stdout",
     "output_type": "stream",
     "text": [
      "<class 'pandas.core.frame.DataFrame'>\n",
      "RangeIndex: 2718 entries, 0 to 2717\n",
      "Data columns (total 10 columns):\n",
      " #   Column                   Non-Null Count  Dtype  \n",
      "---  ------                   --------------  -----  \n",
      " 0   CustomerID               2718 non-null   float64\n",
      " 1   recency_days             2718 non-null   int64  \n",
      " 2   frequency                2718 non-null   int64  \n",
      " 3   monetary                 2718 non-null   float64\n",
      " 4   avg_order_value          2718 non-null   float64\n",
      " 5   CLV                      2718 non-null   float64\n",
      " 6   customer_age_days        2718 non-null   int64  \n",
      " 7   avg_days_between_orders  2677 non-null   float64\n",
      " 8   recent_frequency         2718 non-null   float64\n",
      " 9   recent_monetary          2718 non-null   float64\n",
      "dtypes: float64(7), int64(3)\n",
      "memory usage: 212.5 KB\n"
     ]
    }
   ],
   "execution_count": 245
  },
  {
   "metadata": {
    "ExecuteTime": {
     "end_time": "2025-07-23T07:51:28.122657Z",
     "start_time": "2025-07-23T07:51:28.096428Z"
    }
   },
   "cell_type": "code",
   "source": [
    "# Aggregate future spending per customer\n",
    "clv_target = holdout_df.groupby('CustomerID')['TotalPrice'].sum().reset_index()\n",
    "clv_target.columns = ['CustomerID', 'FutureCLV']\n",
    "features['TotalPrice'] = data['Quantity'] * data['UnitPrice']\n",
    "\n"
   ],
   "id": "ef94caa40a13481f",
   "outputs": [],
   "execution_count": 246
  },
  {
   "metadata": {
    "ExecuteTime": {
     "end_time": "2025-07-23T07:51:31.832653Z",
     "start_time": "2025-07-23T07:51:31.796985Z"
    }
   },
   "cell_type": "code",
   "source": [
    "# Calculate avg_order_value if not already there\n",
    "features['avg_order_value'] = features['monetary'] / features['frequency']\n",
    "\n",
    "# Calculate order_per_day (with handling for zero division)\n",
    "features['order_per_day'] = features.apply(\n",
    "    lambda row: row['frequency'] / row['customer_age_days'] if row['customer_age_days'] > 0 else 0,\n",
    "    axis=1\n",
    ")\n",
    "\n",
    "# Define the number of future days you want to project CLV for\n",
    "future_days = 90  # You can change this to 180, 365, etc.\n",
    "\n",
    "# Compute Future CLV\n",
    "features['FutureCLV'] = features['avg_order_value'] * features['order_per_day'] * future_days\n"
   ],
   "id": "f47b4b75966a828b",
   "outputs": [],
   "execution_count": 247
  },
  {
   "metadata": {
    "ExecuteTime": {
     "end_time": "2025-07-23T07:51:33.236064Z",
     "start_time": "2025-07-23T07:51:33.206329Z"
    }
   },
   "cell_type": "code",
   "source": "features.to_csv(\"/home/big_fat_penguin/PycharmProjects/projects/Customer lifetime value prediction/model/final_features_dataset.csv\", index=False)",
   "id": "cfcb9bfd16684702",
   "outputs": [],
   "execution_count": 248
  },
  {
   "metadata": {},
   "cell_type": "markdown",
   "source": [
    "# (Supervised Regression Modeling):\n",
    "- Feature Preprocessing:\n",
    "> Make sure all features are numeric\n",
    "\n",
    "> Convert frequency (if still object) to int\n",
    "\n",
    "> Handle missing/nulls (if any)\n",
    "\n",
    "- Train-Test Split\n",
    "- Train a Regression Model\n",
    ">Trying  LinearRegression first:if it doesnt wrok well we will move to other"
   ],
   "id": "939212b1800623ef"
  },
  {
   "metadata": {
    "ExecuteTime": {
     "end_time": "2025-07-23T07:51:01.998540814Z",
     "start_time": "2025-07-23T06:04:50.348793Z"
    }
   },
   "cell_type": "code",
   "source": [
    "from sklearn.model_selection import train_test_split\n",
    "from sklearn.linear_model import LinearRegression, Ridge\n",
    "from sklearn.ensemble import RandomForestRegressor\n",
    "from sklearn.metrics import r2_score, mean_squared_error\n",
    "from sklearn.preprocessing import StandardScaler\n",
    "from sklearn.pipeline import make_pipeline\n",
    "\n",
    "# --- Features & Target ---\n",
    "X = features[['recency_days', 'frequency', 'monetary', 'avg_order_value',\n",
    "              'customer_age_days', 'order_per_day', 'recent_frequency', 'recent_monetary']]\n",
    "y = features['FutureCLV']\n",
    "\n",
    "# --- Train-Test Split ---\n",
    "X_train, X_test, y_train, y_test = train_test_split(X, y, test_size=0.2, random_state=42)\n",
    "\n",
    "# --- Models ---\n",
    "models = {\n",
    "    \"Linear Regression\": LinearRegression(),\n",
    "    \"Ridge Regression\": make_pipeline(StandardScaler(), Ridge(alpha=1.0)),\n",
    "    \"Random Forest\": RandomForestRegressor(n_estimators=100, random_state=42)\n",
    "}\n",
    "\n",
    "# --- Train and Evaluate ---\n",
    "for name, model in models.items():\n",
    "    model.fit(X_train, y_train)\n",
    "    y_pred = model.predict(X_test)\n",
    "    print(f\"\\n🔹 {name}\")\n",
    "    print(\"R2 Score:\", r2_score(y_test, y_pred))\n",
    "    print(\"MSE:\", mean_squared_error(y_test, y_pred))\n"
   ],
   "id": "a699f8db5d511023",
   "outputs": [
    {
     "name": "stdout",
     "output_type": "stream",
     "text": [
      "\n",
      "🔹 Linear Regression\n",
      "R2 Score: 0.9898318654009244\n",
      "MSE: 5607.125254332411\n",
      "\n",
      "🔹 Ridge Regression\n",
      "R2 Score: 0.9897813478456134\n",
      "MSE: 5634.9827002986\n",
      "\n",
      "🔹 Random Forest\n",
      "R2 Score: 0.9664173988004178\n",
      "MSE: 18518.8196967288\n"
     ]
    }
   ],
   "execution_count": 214
  },
  {
   "metadata": {
    "ExecuteTime": {
     "end_time": "2025-07-23T07:51:01.999623581Z",
     "start_time": "2025-07-23T05:42:33.335230Z"
    }
   },
   "cell_type": "code",
   "source": [
    "# 1. Import Libraries\n",
    "from sklearn.model_selection import train_test_split\n",
    "from sklearn.linear_model import LinearRegression\n",
    "from sklearn.metrics import mean_squared_error, r2_score\n",
    "import matplotlib.pyplot as plt\n",
    "import seaborn as sns\n",
    "\n",
    "# 2. Prepare Features and Target\n",
    "X = features.drop(['CustomerID', 'CLV'], axis=1)  # Drop ID and Target\n",
    "y = features['CLV']  # Target column\n",
    "\n",
    "# 3. Handle Missing Values\n",
    "X = X.fillna(X.mean())  # Fill any NaNs with column means\n",
    "\n",
    "# 4. Train-Test Split\n",
    "X_train, X_test, y_train, y_test = train_test_split(\n",
    "    X, y, test_size=0.2, random_state=42\n",
    ")\n",
    "\n",
    "# 5. Train the Model\n",
    "model = LinearRegression()\n",
    "model.fit(X_train, y_train)\n",
    "\n",
    "# 6. Predict and Evaluate\n",
    "y_pred = model.predict(X_test)\n",
    "print(\"MSE:\", mean_squared_error(y_test, y_pred))\n",
    "print(\"R2 Score:\", r2_score(y_test, y_pred))\n",
    "\n",
    "# 7. Plot Actual vs Predicted\n",
    "plt.figure(figsize=(8,6))\n",
    "sns.scatterplot(x=y_test, y=y_pred)\n",
    "plt.xlabel(\"Actual CLV\")\n",
    "plt.ylabel(\"Predicted CLV\")\n",
    "plt.title(\"Actual vs Predicted CLV\")\n",
    "plt.grid(True)\n",
    "plt.show()\n"
   ],
   "id": "8b24da6903fea7b5",
   "outputs": [
    {
     "name": "stdout",
     "output_type": "stream",
     "text": [
      "MSE: 2.008298507779018e-25\n",
      "R2 Score: 1.0\n"
     ]
    },
    {
     "data": {
      "text/plain": [
       "<Figure size 800x600 with 1 Axes>"
      ],
      "image/png": "[encoded data removed]"
     },
     "metadata": {},
     "output_type": "display_data"
    }
   ],
   "execution_count": 161
  },
  {
   "metadata": {},
   "cell_type": "markdown",
   "source": [
    "# Interpret the Output:\n",
    "> R² Score = 0.019 (~2%)\n",
    "\n",
    "- → This means the model explains only ~2% of the variance in the Customer Lifetime Value (CLV).\n",
    "-  It’s very low, so the model is not performing well.\n",
    "\n",
    ">MSE (Mean Squared Error) = ~92,492\n",
    "\n",
    "- → This is the average squared difference between predicted and actual CLV. The value is high, indicating large prediction errors.\n",
    "\n",
    "## The reason for such occurance may be related to how model is compatible with the data and how much help did the features give to predict the target then again as it not worked lets move to tree bases regression models"
   ],
   "id": "3252c4eae39c192d"
  },
  {
   "metadata": {
    "ExecuteTime": {
     "end_time": "2025-07-23T07:51:02.001383835Z",
     "start_time": "2025-07-23T06:05:52.233775Z"
    }
   },
   "cell_type": "code",
   "source": [
    "coef = pd.Series(models['Linear Regression'].coef_, index=X.columns)\n",
    "coef.sort_values(ascending=False).plot(kind='barh')\n"
   ],
   "id": "73e4dc26d4bd0af0",
   "outputs": [
    {
     "data": {
      "text/plain": [
       "<Axes: >"
      ]
     },
     "execution_count": 215,
     "metadata": {},
     "output_type": "execute_result"
    },
    {
     "data": {
      "text/plain": [
       "<Figure size 640x480 with 1 Axes>"
      ],
      "image/png": "[encoded data removed]"
     },
     "metadata": {},
     "output_type": "display_data"
    }
   ],
   "execution_count": 215
  },
  {
   "metadata": {},
   "cell_type": "markdown",
   "source": [
    "# As we found that Random forest is working well with it lets keep it as our baseline for working\n",
    "## Next to be done-Feature importance plot and hyperparameter tuning"
   ],
   "id": "d2b6ceebaae9f018"
  },
  {
   "metadata": {
    "ExecuteTime": {
     "end_time": "2025-07-23T07:51:02.004195076Z",
     "start_time": "2025-07-23T04:58:21.003784Z"
    }
   },
   "cell_type": "code",
   "source": [
    "import matplotlib.pyplot as plt\n",
    "\n",
    "importances = rf.feature_importances_\n",
    "features = X.columns\n",
    "\n",
    "plt.figure(figsize=(6, 4))\n",
    "plt.barh(features, importances)\n",
    "plt.xlabel(\"Feature Importance\")\n",
    "plt.title(\"Random Forest Feature Importance\")\n",
    "plt.show()\n"
   ],
   "id": "30067d52955f6110",
   "outputs": [
    {
     "data": {
      "text/plain": [
       "<Figure size 600x400 with 1 Axes>"
      ],
      "image/png": "[encoded data removed]"
     },
     "metadata": {},
     "output_type": "display_data"
    }
   ],
   "execution_count": 122
  },
  {
   "metadata": {
    "ExecuteTime": {
     "end_time": "2025-07-23T07:51:02.005476261Z",
     "start_time": "2025-07-23T05:26:13.865026Z"
    }
   },
   "cell_type": "code",
   "source": [
    "from sklearn.model_selection import GridSearchCV\n",
    "\n",
    "param_grid = {\n",
    "    'n_estimators': [100, 200],\n",
    "    'max_depth': [5, 10, None],\n",
    "    'min_samples_split': [2, 5],\n",
    "    'min_samples_leaf': [1, 2]\n",
    "}\n",
    "\n",
    "grid = GridSearchCV(RandomForestRegressor(random_state=42), param_grid, cv=3)\n",
    "grid.fit(X_train, y_train)\n",
    "\n",
    "print(\"Best Parameters:\", grid.best_params_)\n"
   ],
   "id": "db50024bbfa470e3",
   "outputs": [
    {
     "ename": "KeyboardInterrupt",
     "evalue": "",
     "output_type": "error",
     "traceback": [
      "\u001B[31m---------------------------------------------------------------------------\u001B[39m",
      "\u001B[31mKeyboardInterrupt\u001B[39m                         Traceback (most recent call last)",
      "\u001B[36mCell\u001B[39m\u001B[36m \u001B[39m\u001B[32mIn[145]\u001B[39m\u001B[32m, line 11\u001B[39m\n\u001B[32m      3\u001B[39m param_grid = {\n\u001B[32m      4\u001B[39m     \u001B[33m'\u001B[39m\u001B[33mn_estimators\u001B[39m\u001B[33m'\u001B[39m: [\u001B[32m100\u001B[39m, \u001B[32m200\u001B[39m],\n\u001B[32m      5\u001B[39m     \u001B[33m'\u001B[39m\u001B[33mmax_depth\u001B[39m\u001B[33m'\u001B[39m: [\u001B[32m5\u001B[39m, \u001B[32m10\u001B[39m, \u001B[38;5;28;01mNone\u001B[39;00m],\n\u001B[32m      6\u001B[39m     \u001B[33m'\u001B[39m\u001B[33mmin_samples_split\u001B[39m\u001B[33m'\u001B[39m: [\u001B[32m2\u001B[39m, \u001B[32m5\u001B[39m],\n\u001B[32m      7\u001B[39m     \u001B[33m'\u001B[39m\u001B[33mmin_samples_leaf\u001B[39m\u001B[33m'\u001B[39m: [\u001B[32m1\u001B[39m, \u001B[32m2\u001B[39m]\n\u001B[32m      8\u001B[39m }\n\u001B[32m     10\u001B[39m grid = GridSearchCV(RandomForestRegressor(random_state=\u001B[32m42\u001B[39m), param_grid, cv=\u001B[32m3\u001B[39m)\n\u001B[32m---> \u001B[39m\u001B[32m11\u001B[39m grid.fit(X_train, y_train)\n\u001B[32m     13\u001B[39m \u001B[38;5;28mprint\u001B[39m(\u001B[33m\"\u001B[39m\u001B[33mBest Parameters:\u001B[39m\u001B[33m\"\u001B[39m, grid.best_params_)\n",
      "\u001B[36mFile \u001B[39m\u001B[32m~/miniconda3/lib/python3.12/site-packages/sklearn/base.py:1389\u001B[39m, in \u001B[36m_fit_context.<locals>.decorator.<locals>.wrapper\u001B[39m\u001B[34m(estimator, *args, **kwargs)\u001B[39m\n\u001B[32m   1382\u001B[39m     estimator._validate_params()\n\u001B[32m   1384\u001B[39m \u001B[38;5;28;01mwith\u001B[39;00m config_context(\n\u001B[32m   1385\u001B[39m     skip_parameter_validation=(\n\u001B[32m   1386\u001B[39m         prefer_skip_nested_validation \u001B[38;5;129;01mor\u001B[39;00m global_skip_validation\n\u001B[32m   1387\u001B[39m     )\n\u001B[32m   1388\u001B[39m ):\n\u001B[32m-> \u001B[39m\u001B[32m1389\u001B[39m     \u001B[38;5;28;01mreturn\u001B[39;00m fit_method(estimator, *args, **kwargs)\n",
      "\u001B[36mFile \u001B[39m\u001B[32m~/miniconda3/lib/python3.12/site-packages/sklearn/model_selection/_search.py:1024\u001B[39m, in \u001B[36mBaseSearchCV.fit\u001B[39m\u001B[34m(self, X, y, **params)\u001B[39m\n\u001B[32m   1018\u001B[39m     results = \u001B[38;5;28mself\u001B[39m._format_results(\n\u001B[32m   1019\u001B[39m         all_candidate_params, n_splits, all_out, all_more_results\n\u001B[32m   1020\u001B[39m     )\n\u001B[32m   1022\u001B[39m     \u001B[38;5;28;01mreturn\u001B[39;00m results\n\u001B[32m-> \u001B[39m\u001B[32m1024\u001B[39m \u001B[38;5;28mself\u001B[39m._run_search(evaluate_candidates)\n\u001B[32m   1026\u001B[39m \u001B[38;5;66;03m# multimetric is determined here because in the case of a callable\u001B[39;00m\n\u001B[32m   1027\u001B[39m \u001B[38;5;66;03m# self.scoring the return type is only known after calling\u001B[39;00m\n\u001B[32m   1028\u001B[39m first_test_score = all_out[\u001B[32m0\u001B[39m][\u001B[33m\"\u001B[39m\u001B[33mtest_scores\u001B[39m\u001B[33m\"\u001B[39m]\n",
      "\u001B[36mFile \u001B[39m\u001B[32m~/miniconda3/lib/python3.12/site-packages/sklearn/model_selection/_search.py:1571\u001B[39m, in \u001B[36mGridSearchCV._run_search\u001B[39m\u001B[34m(self, evaluate_candidates)\u001B[39m\n\u001B[32m   1569\u001B[39m \u001B[38;5;28;01mdef\u001B[39;00m\u001B[38;5;250m \u001B[39m\u001B[34m_run_search\u001B[39m(\u001B[38;5;28mself\u001B[39m, evaluate_candidates):\n\u001B[32m   1570\u001B[39m \u001B[38;5;250m    \u001B[39m\u001B[33;03m\"\"\"Search all candidates in param_grid\"\"\"\u001B[39;00m\n\u001B[32m-> \u001B[39m\u001B[32m1571\u001B[39m     evaluate_candidates(ParameterGrid(\u001B[38;5;28mself\u001B[39m.param_grid))\n",
      "\u001B[36mFile \u001B[39m\u001B[32m~/miniconda3/lib/python3.12/site-packages/sklearn/model_selection/_search.py:970\u001B[39m, in \u001B[36mBaseSearchCV.fit.<locals>.evaluate_candidates\u001B[39m\u001B[34m(candidate_params, cv, more_results)\u001B[39m\n\u001B[32m    962\u001B[39m \u001B[38;5;28;01mif\u001B[39;00m \u001B[38;5;28mself\u001B[39m.verbose > \u001B[32m0\u001B[39m:\n\u001B[32m    963\u001B[39m     \u001B[38;5;28mprint\u001B[39m(\n\u001B[32m    964\u001B[39m         \u001B[33m\"\u001B[39m\u001B[33mFitting \u001B[39m\u001B[38;5;132;01m{0}\u001B[39;00m\u001B[33m folds for each of \u001B[39m\u001B[38;5;132;01m{1}\u001B[39;00m\u001B[33m candidates,\u001B[39m\u001B[33m\"\u001B[39m\n\u001B[32m    965\u001B[39m         \u001B[33m\"\u001B[39m\u001B[33m totalling \u001B[39m\u001B[38;5;132;01m{2}\u001B[39;00m\u001B[33m fits\u001B[39m\u001B[33m\"\u001B[39m.format(\n\u001B[32m    966\u001B[39m             n_splits, n_candidates, n_candidates * n_splits\n\u001B[32m    967\u001B[39m         )\n\u001B[32m    968\u001B[39m     )\n\u001B[32m--> \u001B[39m\u001B[32m970\u001B[39m out = parallel(\n\u001B[32m    971\u001B[39m     delayed(_fit_and_score)(\n\u001B[32m    972\u001B[39m         clone(base_estimator),\n\u001B[32m    973\u001B[39m         X,\n\u001B[32m    974\u001B[39m         y,\n\u001B[32m    975\u001B[39m         train=train,\n\u001B[32m    976\u001B[39m         test=test,\n\u001B[32m    977\u001B[39m         parameters=parameters,\n\u001B[32m    978\u001B[39m         split_progress=(split_idx, n_splits),\n\u001B[32m    979\u001B[39m         candidate_progress=(cand_idx, n_candidates),\n\u001B[32m    980\u001B[39m         **fit_and_score_kwargs,\n\u001B[32m    981\u001B[39m     )\n\u001B[32m    982\u001B[39m     \u001B[38;5;28;01mfor\u001B[39;00m (cand_idx, parameters), (split_idx, (train, test)) \u001B[38;5;129;01min\u001B[39;00m product(\n\u001B[32m    983\u001B[39m         \u001B[38;5;28menumerate\u001B[39m(candidate_params),\n\u001B[32m    984\u001B[39m         \u001B[38;5;28menumerate\u001B[39m(cv.split(X, y, **routed_params.splitter.split)),\n\u001B[32m    985\u001B[39m     )\n\u001B[32m    986\u001B[39m )\n\u001B[32m    988\u001B[39m \u001B[38;5;28;01mif\u001B[39;00m \u001B[38;5;28mlen\u001B[39m(out) < \u001B[32m1\u001B[39m:\n\u001B[32m    989\u001B[39m     \u001B[38;5;28;01mraise\u001B[39;00m \u001B[38;5;167;01mValueError\u001B[39;00m(\n\u001B[32m    990\u001B[39m         \u001B[33m\"\u001B[39m\u001B[33mNo fits were performed. \u001B[39m\u001B[33m\"\u001B[39m\n\u001B[32m    991\u001B[39m         \u001B[33m\"\u001B[39m\u001B[33mWas the CV iterator empty? \u001B[39m\u001B[33m\"\u001B[39m\n\u001B[32m    992\u001B[39m         \u001B[33m\"\u001B[39m\u001B[33mWere there no candidates?\u001B[39m\u001B[33m\"\u001B[39m\n\u001B[32m    993\u001B[39m     )\n",
      "\u001B[36mFile \u001B[39m\u001B[32m~/miniconda3/lib/python3.12/site-packages/sklearn/utils/parallel.py:77\u001B[39m, in \u001B[36mParallel.__call__\u001B[39m\u001B[34m(self, iterable)\u001B[39m\n\u001B[32m     72\u001B[39m config = get_config()\n\u001B[32m     73\u001B[39m iterable_with_config = (\n\u001B[32m     74\u001B[39m     (_with_config(delayed_func, config), args, kwargs)\n\u001B[32m     75\u001B[39m     \u001B[38;5;28;01mfor\u001B[39;00m delayed_func, args, kwargs \u001B[38;5;129;01min\u001B[39;00m iterable\n\u001B[32m     76\u001B[39m )\n\u001B[32m---> \u001B[39m\u001B[32m77\u001B[39m \u001B[38;5;28;01mreturn\u001B[39;00m \u001B[38;5;28msuper\u001B[39m().\u001B[34m__call__\u001B[39m(iterable_with_config)\n",
      "\u001B[36mFile \u001B[39m\u001B[32m~/miniconda3/lib/python3.12/site-packages/joblib/parallel.py:1918\u001B[39m, in \u001B[36mParallel.__call__\u001B[39m\u001B[34m(self, iterable)\u001B[39m\n\u001B[32m   1916\u001B[39m     output = \u001B[38;5;28mself\u001B[39m._get_sequential_output(iterable)\n\u001B[32m   1917\u001B[39m     \u001B[38;5;28mnext\u001B[39m(output)\n\u001B[32m-> \u001B[39m\u001B[32m1918\u001B[39m     \u001B[38;5;28;01mreturn\u001B[39;00m output \u001B[38;5;28;01mif\u001B[39;00m \u001B[38;5;28mself\u001B[39m.return_generator \u001B[38;5;28;01melse\u001B[39;00m \u001B[38;5;28mlist\u001B[39m(output)\n\u001B[32m   1920\u001B[39m \u001B[38;5;66;03m# Let's create an ID that uniquely identifies the current call. If the\u001B[39;00m\n\u001B[32m   1921\u001B[39m \u001B[38;5;66;03m# call is interrupted early and that the same instance is immediately\u001B[39;00m\n\u001B[32m   1922\u001B[39m \u001B[38;5;66;03m# re-used, this id will be used to prevent workers that were\u001B[39;00m\n\u001B[32m   1923\u001B[39m \u001B[38;5;66;03m# concurrently finalizing a task from the previous call to run the\u001B[39;00m\n\u001B[32m   1924\u001B[39m \u001B[38;5;66;03m# callback.\u001B[39;00m\n\u001B[32m   1925\u001B[39m \u001B[38;5;28;01mwith\u001B[39;00m \u001B[38;5;28mself\u001B[39m._lock:\n",
      "\u001B[36mFile \u001B[39m\u001B[32m~/miniconda3/lib/python3.12/site-packages/joblib/parallel.py:1847\u001B[39m, in \u001B[36mParallel._get_sequential_output\u001B[39m\u001B[34m(self, iterable)\u001B[39m\n\u001B[32m   1845\u001B[39m \u001B[38;5;28mself\u001B[39m.n_dispatched_batches += \u001B[32m1\u001B[39m\n\u001B[32m   1846\u001B[39m \u001B[38;5;28mself\u001B[39m.n_dispatched_tasks += \u001B[32m1\u001B[39m\n\u001B[32m-> \u001B[39m\u001B[32m1847\u001B[39m res = func(*args, **kwargs)\n\u001B[32m   1848\u001B[39m \u001B[38;5;28mself\u001B[39m.n_completed_tasks += \u001B[32m1\u001B[39m\n\u001B[32m   1849\u001B[39m \u001B[38;5;28mself\u001B[39m.print_progress()\n",
      "\u001B[36mFile \u001B[39m\u001B[32m~/miniconda3/lib/python3.12/site-packages/sklearn/utils/parallel.py:139\u001B[39m, in \u001B[36m_FuncWrapper.__call__\u001B[39m\u001B[34m(self, *args, **kwargs)\u001B[39m\n\u001B[32m    137\u001B[39m     config = {}\n\u001B[32m    138\u001B[39m \u001B[38;5;28;01mwith\u001B[39;00m config_context(**config):\n\u001B[32m--> \u001B[39m\u001B[32m139\u001B[39m     \u001B[38;5;28;01mreturn\u001B[39;00m \u001B[38;5;28mself\u001B[39m.function(*args, **kwargs)\n",
      "\u001B[36mFile \u001B[39m\u001B[32m~/miniconda3/lib/python3.12/site-packages/sklearn/model_selection/_validation.py:866\u001B[39m, in \u001B[36m_fit_and_score\u001B[39m\u001B[34m(estimator, X, y, scorer, train, test, verbose, parameters, fit_params, score_params, return_train_score, return_parameters, return_n_test_samples, return_times, return_estimator, split_progress, candidate_progress, error_score)\u001B[39m\n\u001B[32m    864\u001B[39m         estimator.fit(X_train, **fit_params)\n\u001B[32m    865\u001B[39m     \u001B[38;5;28;01melse\u001B[39;00m:\n\u001B[32m--> \u001B[39m\u001B[32m866\u001B[39m         estimator.fit(X_train, y_train, **fit_params)\n\u001B[32m    868\u001B[39m \u001B[38;5;28;01mexcept\u001B[39;00m \u001B[38;5;167;01mException\u001B[39;00m:\n\u001B[32m    869\u001B[39m     \u001B[38;5;66;03m# Note fit time as time until error\u001B[39;00m\n\u001B[32m    870\u001B[39m     fit_time = time.time() - start_time\n",
      "\u001B[36mFile \u001B[39m\u001B[32m~/miniconda3/lib/python3.12/site-packages/sklearn/base.py:1389\u001B[39m, in \u001B[36m_fit_context.<locals>.decorator.<locals>.wrapper\u001B[39m\u001B[34m(estimator, *args, **kwargs)\u001B[39m\n\u001B[32m   1382\u001B[39m     estimator._validate_params()\n\u001B[32m   1384\u001B[39m \u001B[38;5;28;01mwith\u001B[39;00m config_context(\n\u001B[32m   1385\u001B[39m     skip_parameter_validation=(\n\u001B[32m   1386\u001B[39m         prefer_skip_nested_validation \u001B[38;5;129;01mor\u001B[39;00m global_skip_validation\n\u001B[32m   1387\u001B[39m     )\n\u001B[32m   1388\u001B[39m ):\n\u001B[32m-> \u001B[39m\u001B[32m1389\u001B[39m     \u001B[38;5;28;01mreturn\u001B[39;00m fit_method(estimator, *args, **kwargs)\n",
      "\u001B[36mFile \u001B[39m\u001B[32m~/miniconda3/lib/python3.12/site-packages/sklearn/ensemble/_forest.py:487\u001B[39m, in \u001B[36mBaseForest.fit\u001B[39m\u001B[34m(self, X, y, sample_weight)\u001B[39m\n\u001B[32m    476\u001B[39m trees = [\n\u001B[32m    477\u001B[39m     \u001B[38;5;28mself\u001B[39m._make_estimator(append=\u001B[38;5;28;01mFalse\u001B[39;00m, random_state=random_state)\n\u001B[32m    478\u001B[39m     \u001B[38;5;28;01mfor\u001B[39;00m i \u001B[38;5;129;01min\u001B[39;00m \u001B[38;5;28mrange\u001B[39m(n_more_estimators)\n\u001B[32m    479\u001B[39m ]\n\u001B[32m    481\u001B[39m \u001B[38;5;66;03m# Parallel loop: we prefer the threading backend as the Cython code\u001B[39;00m\n\u001B[32m    482\u001B[39m \u001B[38;5;66;03m# for fitting the trees is internally releasing the Python GIL\u001B[39;00m\n\u001B[32m    483\u001B[39m \u001B[38;5;66;03m# making threading more efficient than multiprocessing in\u001B[39;00m\n\u001B[32m    484\u001B[39m \u001B[38;5;66;03m# that case. However, for joblib 0.12+ we respect any\u001B[39;00m\n\u001B[32m    485\u001B[39m \u001B[38;5;66;03m# parallel_backend contexts set at a higher level,\u001B[39;00m\n\u001B[32m    486\u001B[39m \u001B[38;5;66;03m# since correctness does not rely on using threads.\u001B[39;00m\n\u001B[32m--> \u001B[39m\u001B[32m487\u001B[39m trees = Parallel(\n\u001B[32m    488\u001B[39m     n_jobs=\u001B[38;5;28mself\u001B[39m.n_jobs,\n\u001B[32m    489\u001B[39m     verbose=\u001B[38;5;28mself\u001B[39m.verbose,\n\u001B[32m    490\u001B[39m     prefer=\u001B[33m\"\u001B[39m\u001B[33mthreads\u001B[39m\u001B[33m\"\u001B[39m,\n\u001B[32m    491\u001B[39m )(\n\u001B[32m    492\u001B[39m     delayed(_parallel_build_trees)(\n\u001B[32m    493\u001B[39m         t,\n\u001B[32m    494\u001B[39m         \u001B[38;5;28mself\u001B[39m.bootstrap,\n\u001B[32m    495\u001B[39m         X,\n\u001B[32m    496\u001B[39m         y,\n\u001B[32m    497\u001B[39m         sample_weight,\n\u001B[32m    498\u001B[39m         i,\n\u001B[32m    499\u001B[39m         \u001B[38;5;28mlen\u001B[39m(trees),\n\u001B[32m    500\u001B[39m         verbose=\u001B[38;5;28mself\u001B[39m.verbose,\n\u001B[32m    501\u001B[39m         class_weight=\u001B[38;5;28mself\u001B[39m.class_weight,\n\u001B[32m    502\u001B[39m         n_samples_bootstrap=n_samples_bootstrap,\n\u001B[32m    503\u001B[39m         missing_values_in_feature_mask=missing_values_in_feature_mask,\n\u001B[32m    504\u001B[39m     )\n\u001B[32m    505\u001B[39m     \u001B[38;5;28;01mfor\u001B[39;00m i, t \u001B[38;5;129;01min\u001B[39;00m \u001B[38;5;28menumerate\u001B[39m(trees)\n\u001B[32m    506\u001B[39m )\n\u001B[32m    508\u001B[39m \u001B[38;5;66;03m# Collect newly grown trees\u001B[39;00m\n\u001B[32m    509\u001B[39m \u001B[38;5;28mself\u001B[39m.estimators_.extend(trees)\n",
      "\u001B[36mFile \u001B[39m\u001B[32m~/miniconda3/lib/python3.12/site-packages/sklearn/utils/parallel.py:77\u001B[39m, in \u001B[36mParallel.__call__\u001B[39m\u001B[34m(self, iterable)\u001B[39m\n\u001B[32m     72\u001B[39m config = get_config()\n\u001B[32m     73\u001B[39m iterable_with_config = (\n\u001B[32m     74\u001B[39m     (_with_config(delayed_func, config), args, kwargs)\n\u001B[32m     75\u001B[39m     \u001B[38;5;28;01mfor\u001B[39;00m delayed_func, args, kwargs \u001B[38;5;129;01min\u001B[39;00m iterable\n\u001B[32m     76\u001B[39m )\n\u001B[32m---> \u001B[39m\u001B[32m77\u001B[39m \u001B[38;5;28;01mreturn\u001B[39;00m \u001B[38;5;28msuper\u001B[39m().\u001B[34m__call__\u001B[39m(iterable_with_config)\n",
      "\u001B[36mFile \u001B[39m\u001B[32m~/miniconda3/lib/python3.12/site-packages/joblib/parallel.py:1918\u001B[39m, in \u001B[36mParallel.__call__\u001B[39m\u001B[34m(self, iterable)\u001B[39m\n\u001B[32m   1916\u001B[39m     output = \u001B[38;5;28mself\u001B[39m._get_sequential_output(iterable)\n\u001B[32m   1917\u001B[39m     \u001B[38;5;28mnext\u001B[39m(output)\n\u001B[32m-> \u001B[39m\u001B[32m1918\u001B[39m     \u001B[38;5;28;01mreturn\u001B[39;00m output \u001B[38;5;28;01mif\u001B[39;00m \u001B[38;5;28mself\u001B[39m.return_generator \u001B[38;5;28;01melse\u001B[39;00m \u001B[38;5;28mlist\u001B[39m(output)\n\u001B[32m   1920\u001B[39m \u001B[38;5;66;03m# Let's create an ID that uniquely identifies the current call. If the\u001B[39;00m\n\u001B[32m   1921\u001B[39m \u001B[38;5;66;03m# call is interrupted early and that the same instance is immediately\u001B[39;00m\n\u001B[32m   1922\u001B[39m \u001B[38;5;66;03m# re-used, this id will be used to prevent workers that were\u001B[39;00m\n\u001B[32m   1923\u001B[39m \u001B[38;5;66;03m# concurrently finalizing a task from the previous call to run the\u001B[39;00m\n\u001B[32m   1924\u001B[39m \u001B[38;5;66;03m# callback.\u001B[39;00m\n\u001B[32m   1925\u001B[39m \u001B[38;5;28;01mwith\u001B[39;00m \u001B[38;5;28mself\u001B[39m._lock:\n",
      "\u001B[36mFile \u001B[39m\u001B[32m~/miniconda3/lib/python3.12/site-packages/joblib/parallel.py:1847\u001B[39m, in \u001B[36mParallel._get_sequential_output\u001B[39m\u001B[34m(self, iterable)\u001B[39m\n\u001B[32m   1845\u001B[39m \u001B[38;5;28mself\u001B[39m.n_dispatched_batches += \u001B[32m1\u001B[39m\n\u001B[32m   1846\u001B[39m \u001B[38;5;28mself\u001B[39m.n_dispatched_tasks += \u001B[32m1\u001B[39m\n\u001B[32m-> \u001B[39m\u001B[32m1847\u001B[39m res = func(*args, **kwargs)\n\u001B[32m   1848\u001B[39m \u001B[38;5;28mself\u001B[39m.n_completed_tasks += \u001B[32m1\u001B[39m\n\u001B[32m   1849\u001B[39m \u001B[38;5;28mself\u001B[39m.print_progress()\n",
      "\u001B[36mFile \u001B[39m\u001B[32m~/miniconda3/lib/python3.12/site-packages/sklearn/utils/parallel.py:139\u001B[39m, in \u001B[36m_FuncWrapper.__call__\u001B[39m\u001B[34m(self, *args, **kwargs)\u001B[39m\n\u001B[32m    137\u001B[39m     config = {}\n\u001B[32m    138\u001B[39m \u001B[38;5;28;01mwith\u001B[39;00m config_context(**config):\n\u001B[32m--> \u001B[39m\u001B[32m139\u001B[39m     \u001B[38;5;28;01mreturn\u001B[39;00m \u001B[38;5;28mself\u001B[39m.function(*args, **kwargs)\n",
      "\u001B[36mFile \u001B[39m\u001B[32m~/miniconda3/lib/python3.12/site-packages/sklearn/ensemble/_forest.py:189\u001B[39m, in \u001B[36m_parallel_build_trees\u001B[39m\u001B[34m(tree, bootstrap, X, y, sample_weight, tree_idx, n_trees, verbose, class_weight, n_samples_bootstrap, missing_values_in_feature_mask)\u001B[39m\n\u001B[32m    186\u001B[39m     \u001B[38;5;28;01melif\u001B[39;00m class_weight == \u001B[33m\"\u001B[39m\u001B[33mbalanced_subsample\u001B[39m\u001B[33m\"\u001B[39m:\n\u001B[32m    187\u001B[39m         curr_sample_weight *= compute_sample_weight(\u001B[33m\"\u001B[39m\u001B[33mbalanced\u001B[39m\u001B[33m\"\u001B[39m, y, indices=indices)\n\u001B[32m--> \u001B[39m\u001B[32m189\u001B[39m     tree._fit(\n\u001B[32m    190\u001B[39m         X,\n\u001B[32m    191\u001B[39m         y,\n\u001B[32m    192\u001B[39m         sample_weight=curr_sample_weight,\n\u001B[32m    193\u001B[39m         check_input=\u001B[38;5;28;01mFalse\u001B[39;00m,\n\u001B[32m    194\u001B[39m         missing_values_in_feature_mask=missing_values_in_feature_mask,\n\u001B[32m    195\u001B[39m     )\n\u001B[32m    196\u001B[39m \u001B[38;5;28;01melse\u001B[39;00m:\n\u001B[32m    197\u001B[39m     tree._fit(\n\u001B[32m    198\u001B[39m         X,\n\u001B[32m    199\u001B[39m         y,\n\u001B[32m   (...)\u001B[39m\u001B[32m    202\u001B[39m         missing_values_in_feature_mask=missing_values_in_feature_mask,\n\u001B[32m    203\u001B[39m     )\n",
      "\u001B[36mFile \u001B[39m\u001B[32m~/miniconda3/lib/python3.12/site-packages/sklearn/tree/_classes.py:472\u001B[39m, in \u001B[36mBaseDecisionTree._fit\u001B[39m\u001B[34m(self, X, y, sample_weight, check_input, missing_values_in_feature_mask)\u001B[39m\n\u001B[32m    461\u001B[39m \u001B[38;5;28;01melse\u001B[39;00m:\n\u001B[32m    462\u001B[39m     builder = BestFirstTreeBuilder(\n\u001B[32m    463\u001B[39m         splitter,\n\u001B[32m    464\u001B[39m         min_samples_split,\n\u001B[32m   (...)\u001B[39m\u001B[32m    469\u001B[39m         \u001B[38;5;28mself\u001B[39m.min_impurity_decrease,\n\u001B[32m    470\u001B[39m     )\n\u001B[32m--> \u001B[39m\u001B[32m472\u001B[39m builder.build(\u001B[38;5;28mself\u001B[39m.tree_, X, y, sample_weight, missing_values_in_feature_mask)\n\u001B[32m    474\u001B[39m \u001B[38;5;28;01mif\u001B[39;00m \u001B[38;5;28mself\u001B[39m.n_outputs_ == \u001B[32m1\u001B[39m \u001B[38;5;129;01mand\u001B[39;00m is_classifier(\u001B[38;5;28mself\u001B[39m):\n\u001B[32m    475\u001B[39m     \u001B[38;5;28mself\u001B[39m.n_classes_ = \u001B[38;5;28mself\u001B[39m.n_classes_[\u001B[32m0\u001B[39m]\n",
      "\u001B[31mKeyboardInterrupt\u001B[39m: "
     ]
    }
   ],
   "execution_count": 145
  },
  {
   "metadata": {
    "ExecuteTime": {
     "end_time": "2025-07-23T07:51:02.007599717Z",
     "start_time": "2025-07-23T04:59:04.758579Z"
    }
   },
   "cell_type": "code",
   "source": [
    "from sklearn.ensemble import RandomForestRegressor\n",
    "\n",
    "final_rf = RandomForestRegressor(\n",
    "    max_depth=None,\n",
    "    min_samples_leaf=2,\n",
    "    min_samples_split=2,\n",
    "    n_estimators=200,\n",
    "    random_state=42\n",
    ")\n",
    "\n",
    "final_rf.fit(X_train, y_train)\n",
    "y_pred_final = final_rf.predict(X_test)\n",
    "\n",
    "from sklearn.metrics import r2_score, mean_squared_error\n",
    "\n",
    "print(\"Final R2 Score:\", r2_score(y_test, y_pred_final))\n",
    "print(\"Final MSE:\", mean_squared_error(y_test, y_pred_final))\n"
   ],
   "id": "25f5e8f0f146cebb",
   "outputs": [
    {
     "name": "stdout",
     "output_type": "stream",
     "text": [
      "Final R2 Score: 0.46927834398626633\n",
      "Final MSE: 0.8655829895654881\n"
     ]
    }
   ],
   "execution_count": 124
  },
  {
   "metadata": {},
   "cell_type": "markdown",
   "source": [
    "# Conclusion--\n",
    "## Random Forest (RF):\n",
    ">✅ R² Score: 0.8035\n",
    "\n",
    ">✅ MSE: 18533.00\n",
    "\n",
    "## Tuned Random Forest (with GridSearchCV or similar):\n",
    ">⬇️ R² Score: 0.7884\n",
    "\n",
    ">⬆️ MSE: 19962.98\n",
    "\n",
    "- This means  original Random Forest performed better than the tuned one — which sometimes happens due to:\n",
    ">Overfitting to cross-validation folds in GridSearch.\n",
    "\n",
    ">The hyperparameter search space being too limited or too wide.\n",
    "\n",
    ">Random variation in training/test splits or feature randomness."
   ],
   "id": "5efea6a21df45e88"
  },
  {
   "metadata": {},
   "cell_type": "markdown",
   "source": "# compiling training model and saving plot in one go",
   "id": "3bb3068e2de23dc0"
  },
  {
   "metadata": {
    "ExecuteTime": {
     "end_time": "2025-07-23T07:51:02.009089840Z",
     "start_time": "2025-07-23T06:07:53.671315Z"
    }
   },
   "cell_type": "code",
   "source": [
    "# 📁 Step 1: Ensure plots folder exists\n",
    "import os\n",
    "os.makedirs(\"plots\", exist_ok=True)\n",
    "\n",
    "# 📊 Step 2: Train Random Forest Regressor\n",
    "from sklearn.ensemble import RandomForestRegressor\n",
    "from sklearn.metrics import mean_squared_error, r2_score\n",
    "import matplotlib.pyplot as plt\n",
    "\n",
    "rf = RandomForestRegressor(n_estimators=100, random_state=42)\n",
    "rf.fit(X_train, y_train)\n",
    "\n",
    "# 📈 Step 3: Predict and Evaluate\n",
    "y_pred = rf.predict(X_test)\n",
    "print(\"🔹 Random Forest R2 Score:\", r2_score(y_test, y_pred))\n",
    "print(\"🔹 Random Forest MSE:\", mean_squared_error(y_test, y_pred))\n",
    "\n",
    "# 📌 Step 4: Actual vs Predicted Plot\n",
    "plt.figure(figsize=(6, 6))\n",
    "plt.scatter(y_test, y_pred, alpha=0.6, color=\"skyblue\")\n",
    "plt.plot([y_test.min(), y_test.max()], [y_test.min(), y_test.max()], 'r--')\n",
    "plt.xlabel(\"Actual Future CLV\")\n",
    "plt.ylabel(\"Predicted Future CLV\")\n",
    "plt.title(\"Actual vs Predicted - Random Forest\")\n",
    "plt.tight_layout()\n",
    "plt.savefig(\"plots/actual_vs_predicted.png\")\n",
    "plt.close()\n",
    "\n",
    "# 📌 Step 5: Residuals Histogram\n",
    "residuals = y_test - y_pred\n",
    "plt.figure(figsize=(6, 4))\n",
    "plt.hist(residuals, bins=30, color='orange', edgecolor='black')\n",
    "plt.xlabel(\"Residuals\")\n",
    "plt.title(\"Residuals Distribution - Random Forest\")\n",
    "plt.tight_layout()\n",
    "plt.savefig(\"plots/residuals.png\")\n",
    "plt.close()\n",
    "\n",
    "# 📌 Step 6: Feature Importance Bar Chart\n",
    "importances = rf.feature_importances_\n",
    "feature_names = X.columns\n",
    "\n",
    "plt.figure(figsize=(8, 5))\n",
    "plt.barh(feature_names, importances, color='green')\n",
    "plt.xlabel(\"Feature Importance Score\")\n",
    "plt.title(\"Random Forest - Feature Importance\")\n",
    "plt.tight_layout()\n",
    "plt.savefig(\"plots/feature_importance.png\")\n",
    "plt.close()\n",
    "\n",
    "print(\"✅ All plots saved successfully in the 'plots/' folder.\")\n"
   ],
   "id": "31c6505c06b3ec26",
   "outputs": [
    {
     "name": "stdout",
     "output_type": "stream",
     "text": [
      "🔹 Random Forest R2 Score: 0.9664173988004178\n",
      "🔹 Random Forest MSE: 18518.8196967288\n",
      "✅ All plots saved successfully in the 'plots/' folder.\n"
     ]
    }
   ],
   "execution_count": 216
  },
  {
   "metadata": {
    "ExecuteTime": {
     "end_time": "2025-07-23T07:51:02.010462855Z",
     "start_time": "2025-07-23T04:26:47.864461Z"
    }
   },
   "cell_type": "code",
   "source": "",
   "id": "632983d1f816237a",
   "outputs": [],
   "execution_count": null
  }
 ],
 "metadata": {
  "kernelspec": {
   "display_name": "Python 3",
   "language": "python",
   "name": "python3"
  },
  "language_info": {
   "codemirror_mode": {
    "name": "ipython",
    "version": 2
   },
   "file_extension": ".py",
   "mimetype": "text/x-python",
   "name": "python",
   "nbconvert_exporter": "python",
   "pygments_lexer": "ipython2",
   "version": "2.7.6"
  }
 },
 "nbformat": 4,
 "nbformat_minor": 5
}
